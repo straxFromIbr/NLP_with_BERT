{
 "cells": [
  {
   "cell_type": "code",
   "execution_count": null,
   "metadata": {},
   "outputs": [],
   "source": [
    "import torch\n",
    "from torch.utils.data import DataLoader"
   ]
  },
  {
   "cell_type": "code",
   "execution_count": null,
   "metadata": {},
   "outputs": [],
   "source": [
    "dataset_for_loader = [\n",
    "    {\"data\": torch.tensor([0, 1]), \"labels\": torch.tensor(0)},\n",
    "    {\"data\": torch.tensor([2, 3]), \"labels\": torch.tensor(1)},\n",
    "    {\"data\": torch.tensor([4, 5]), \"labels\": torch.tensor(2)},\n",
    "    {\"data\": torch.tensor([6, 7]), \"labels\": torch.tensor(3)},\n",
    "]\n",
    "loader = DataLoader(dataset_for_loader, batch_size=2, shuffle=True)\n",
    "for idx, batch in enumerate(loader):\n",
    "    print(f\"# batch {idx}\")\n",
    "    print(batch)\n"
   ]
  },
  {
   "cell_type": "code",
   "execution_count": null,
   "metadata": {},
   "outputs": [],
   "source": []
  }
 ],
 "metadata": {
  "interpreter": {
   "hash": "90de77d5f2332149b175b580a4a3bb73f0707314cd3d07e31835a300405106d8"
  },
  "kernelspec": {
   "display_name": "Python 3.8.12 64-bit ('pytorch': conda)",
   "language": "python",
   "name": "python3"
  },
  "language_info": {
   "codemirror_mode": {
    "name": "ipython",
    "version": 3
   },
   "file_extension": ".py",
   "mimetype": "text/x-python",
   "name": "python",
   "nbconvert_exporter": "python",
   "pygments_lexer": "ipython3",
   "version": "3.8.12"
  },
  "orig_nbformat": 4
 },
 "nbformat": 4,
 "nbformat_minor": 2
}
